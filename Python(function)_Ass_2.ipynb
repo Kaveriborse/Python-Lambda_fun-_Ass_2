{
 "cells": [
  {
   "cell_type": "markdown",
   "id": "27e8800f",
   "metadata": {},
   "source": [
    "# 1. What is a lambda function in Python, and how does it differ from a regular function?"
   ]
  },
  {
   "cell_type": "markdown",
   "id": "0cbbe04f",
   "metadata": {},
   "source": [
    "A lambda function in Python is a small, anonymous (unnamed) function that can have any number of arguments, but can only have one expression. It is often used for simple operations and is defined using the lambda keyword followed by a list of arguments, a colon :, and an expression. The syntax looks like this:\n",
    "\n",
    "lambda arguments: expression\n",
    "\n",
    "Lambda functions are also known as \"anonymous functions\" or \"inline functions\" because they don't require a formal def statement and can be defined directly in the code where they are needed. They are particularly useful when you need a quick function for a short-lived purpose and don't want to define a full-fledged named function using the def keyword.\n",
    "\n",
    "Here's an example of a regular named function and its equivalent lambda function:\n",
    "\n",
    "\n",
    "Key differences between lambda functions and regular functions:\n",
    "\n",
    "Syntax: Lambda functions have a more compact syntax and are defined using the lambda keyword, while regular functions are defined using the def keyword.\n",
    "\n",
    "Anonymous vs Named: Lambda functions are anonymous, meaning they don't have a name. Regular functions are named and can be reused by calling their name.\n",
    "\n",
    "Expression Limitation: Lambda functions are limited to a single expression. They are not suitable for complex logic or multi-line operations. Regular functions can contain multiple expressions and statements.\n",
    "\n",
    "Purpose: Lambda functions are typically used for small, simple operations where defining a separate named function seems excessive. Regular functions are used for more complex and reusable pieces of code.\n",
    "\n",
    "Readability: While lambda functions can make code more concise, overusing them in situations where regular functions would be more readable can lead to decreased code clarity.\n",
    "\n",
    "Scope: Lambda functions are often used within the scope where they are defined, whereas regular functions can be defined at module level and accessed from anywhere in the module.\n",
    "\n",
    "In short lambda functions are a tool for creating small, disposable functions with concise syntax, while regular functions are more versatile and suitable for complex tasks and code organization."
   ]
  },
  {
   "cell_type": "code",
   "execution_count": 1,
   "id": "550d991f",
   "metadata": {},
   "outputs": [],
   "source": [
    "#Regular named function\n",
    "def add(x, y):\n",
    "    return x + y\n",
    "\n",
    "#Equivalent lambda function\n",
    "lambda_add = lambda x, y: x + y"
   ]
  },
  {
   "cell_type": "markdown",
   "id": "b30cac12",
   "metadata": {},
   "source": [
    "# 2. Can a lambda function in Python have multiple arguments? If yes, how can you define and use them?"
   ]
  },
  {
   "cell_type": "markdown",
   "id": "485ba07c",
   "metadata": {},
   "source": [
    "#Yes, a lambda function in Python can have multiple arguments. The basic syntax for defining a lambda function with multiple arguments is as follows:\n",
    "\n",
    "lambda argument1, argument2, ... : expression\n",
    "\n",
    "We can define lambda functions with as many arguments as needed, separated by commas. Just make sure that the number of arguments in the lambda function matches the number of arguments we provide when calling it.\n",
    "\n",
    "Lambda functions with multiple arguments are often used in situations where we need a quick function for simple calculations or operations, such as sorting a list of tuples based on the second element of each tuple, filtering elements based on multiple conditions, and so on."
   ]
  },
  {
   "cell_type": "code",
   "execution_count": 2,
   "id": "c3062de1",
   "metadata": {},
   "outputs": [
    {
     "name": "stdout",
     "output_type": "stream",
     "text": [
      "12\n"
     ]
    }
   ],
   "source": [
    "#Here's an example of a lambda function with multiple arguments:\n",
    "#Lambda function that calculates the sum of two numbers\n",
    "sum_lambda = lambda x, y: x + y   \n",
    "\n",
    "result = sum_lambda(5, 7)\n",
    "print(result)  "
   ]
  },
  {
   "cell_type": "markdown",
   "id": "fd40441b",
   "metadata": {},
   "source": [
    "# 3. How are lambda functions typically used in Python? Provide an example use case."
   ]
  },
  {
   "cell_type": "markdown",
   "id": "5c903fe4",
   "metadata": {},
   "source": [
    "Lambda functions are typically used in Python for short and simple operations where defining a full named function using the def keyword would be overkill. They are often used in situations where a small, disposable function is needed temporarily and where the code would benefit from a more concise syntax. Lambda functions are commonly used with functions like map(), filter(), and sorted().\n",
    "\n",
    "Here's an example use case of lambda functions in Python:\n",
    "\n",
    "Use Case: Sorting a List of Tuples\n",
    "\n",
    "Suppose we have a list of tuples, and we want to sort the list based on the second element of each tuple. In this case, we can use the sorted() function along with a lambda function as the key argument.\n",
    "\n",
    "data = [(3, 9), (1, 5), (7, 2), (4, 8)]\n",
    "\n",
    "sorted_data = sorted(data, key=lambda x: x[1])\n",
    "\n",
    "print(sorted_data)\n",
    "\n",
    "In this example, the lambda function lambda x: x[1] extracts the second element (index 1) of each tuple, and the sorted() function uses this lambda function as the key for sorting the list. The result will be:\n",
    "\n",
    "[(7, 2), (1, 5), (3, 9), (4, 8)]\n",
    "\n",
    "while lambda functions are useful for simple operations like this, for more complex tasks or functions that will be reused, it's often better to define a regular named function using the def keyword to improve code readability and maintainability."
   ]
  },
  {
   "cell_type": "markdown",
   "id": "da21ace6",
   "metadata": {},
   "source": [
    "# 4. What are the advantages and limitations of lambda functions compared to regular functions in Python?"
   ]
  },
  {
   "cell_type": "markdown",
   "id": "e78e78b7",
   "metadata": {},
   "source": [
    "Lambda functions in Python offer certain advantages and have limitations compared to regular named functions. Here's a breakdown of their pros and cons:\n",
    "\n",
    "Advantages of Lambda Functions:\n",
    "\n",
    "Conciseness: Lambda functions are very concise and can be defined in a single line of code. This is particularly useful for simple operations that don't require a lot of code.\n",
    "\n",
    "Inline Usage: Lambda functions are often used in a more \"inline\" manner, directly within the context where they are needed, reducing the need to define separate functions.\n",
    "\n",
    "Readability: In some cases, lambda functions can improve readability by keeping the function definition close to its usage, especially for short operations.\n",
    "\n",
    "Quick and Temporary: Lambda functions are great for quick, temporary tasks where a full function definition might feel excessive.\n",
    "\n",
    "Functional Programming: They are essential for functional programming constructs like map(), filter(), and reduce().\n",
    "\n",
    "Limitations of Lambda Functions:\n",
    "\n",
    "Limited Complexity: Lambda functions are limited to a single expression. This restricts their usage to simple operations and prevents you from using multiple statements or more complex logic.\n",
    "\n",
    "No Documentation or Comments: Lambda functions lack the ability to include documentation strings (docstrings) or comments, which are important for explaining the purpose and usage of a function.\n",
    "\n",
    "Less Readable for Complex Logic: While lambda functions can be concise, they can become less readable when the logic becomes complex. Named functions with descriptive names are often more readable and maintainable.\n",
    "\n",
    "Limited Reusability: Lambda functions are typically used for one-off operations and might not be as reusable as named functions. Regular functions can be defined at module level and used throughout the code.\n",
    "\n",
    "Scope and Namespacing: Lambda functions are often defined within a specific scope and might not be as accessible or reusable in other parts of your code.\n",
    "\n",
    "Limited Debugging: Debugging lambda functions can be more challenging, as they lack a formal name and might not provide clear tracebacks in error messages.\n",
    "\n",
    "In short, lambda functions are a useful tool in Python for specific scenarios, particularly when you need a quick and simple operation. However, for more complex tasks, code reusability, and improved readability, regular named functions defined using the def keyword are often a better choice."
   ]
  },
  {
   "cell_type": "markdown",
   "id": "c5015f97",
   "metadata": {},
   "source": [
    "# 5. Are lambda functions in Python able to access variables defined outside of their own scope? Explain with an example."
   ]
  },
  {
   "cell_type": "markdown",
   "id": "11ede9c8",
   "metadata": {},
   "source": [
    "Yes, lambda functions in Python can access variables that are defined outside of their own scope, provided those variables are available in the surrounding scope where the lambda function is defined. This behavior is known as \"lexical scoping\" or \"closure.\"\n",
    "\n",
    "This demonstrates how lambda functions can capture and use variables from their enclosing scope. However, it's important to note that the lambda function captures the value of the variable at the time of its creation (when the enclosing function is called), not the reference to the variable itself. If the variable's value changes later, it won't affect the lambda function's behavior.\n",
    "\n",
    "While lambda functions can access variables from their enclosing scope, this can sometimes lead to unexpected behavior or unintended consequences if not used carefully, especially in cases where the lambda function is stored and used outside the original context where it was created.\n",
    "\n",
    "\n",
    "\n",
    "\n",
    "\n"
   ]
  },
  {
   "cell_type": "code",
   "execution_count": 5,
   "id": "337bf9cc",
   "metadata": {},
   "outputs": [
    {
     "name": "stdout",
     "output_type": "stream",
     "text": [
      "15\n"
     ]
    }
   ],
   "source": [
    "#Here's an example to illustrate this:\n",
    "\n",
    "def outer_function(x):\n",
    "    # Define a lambda function inside the outer function\n",
    "    inner_lambda = lambda y: x + y\n",
    "    return inner_lambda\n",
    "\n",
    "# Create an instance of the outer_function\n",
    "closure = outer_function(10)\n",
    "\n",
    "# Call the lambda function from the closure\n",
    "result = closure(5)\n",
    "\n",
    "print(result) "
   ]
  },
  {
   "cell_type": "code",
   "execution_count": null,
   "id": "0659240d",
   "metadata": {},
   "outputs": [],
   "source": [
    "'''\n",
    "In this example, the outer_function defines a lambda function inner_lambda that takes an argument y and adds it to the x\n",
    "parameter of the outer_function. When the outer_function is called with an argument of 10, it returns the inner_lambda \n",
    "function, which is then assigned to the variable closure.\n",
    "\n",
    "When closure is called with an argument of 5, it accesses the value of x (which is 10) from the scope of the outer_function\n",
    "and adds it to the provided argument y (5), resulting in the output 15.\n",
    "\n",
    "'''"
   ]
  },
  {
   "cell_type": "markdown",
   "id": "75c91ba4",
   "metadata": {},
   "source": [
    "# 6. Write a lambda function to calculate the square of a given number."
   ]
  },
  {
   "cell_type": "code",
   "execution_count": 9,
   "id": "42d51657",
   "metadata": {},
   "outputs": [
    {
     "name": "stdout",
     "output_type": "stream",
     "text": [
      "25\n"
     ]
    }
   ],
   "source": [
    "square=lambda x:x**2\n",
    "number = 5\n",
    "square = square(number)\n",
    "print(square) "
   ]
  },
  {
   "cell_type": "markdown",
   "id": "efa4eebe",
   "metadata": {},
   "source": [
    "# 7. Create a lambda function to find the maximum value in a list of integers."
   ]
  },
  {
   "cell_type": "markdown",
   "id": "d8a34e87",
   "metadata": {},
   "source": [
    "Certainly a lambda function that finds the maximum value in a list of integers using the max() function along with a lambda as the key argument:\n",
    "\n",
    "\n",
    "In this example, the lambda function lambda x: x simply returns the value of x. The max() function is used with this lambda function as the key argument to find the maximum value in the numbers list. The lambda function essentially helps the max() function compare and determine the maximum value in the list."
   ]
  },
  {
   "cell_type": "code",
   "execution_count": 10,
   "id": "a13222c0",
   "metadata": {},
   "outputs": [
    {
     "name": "stdout",
     "output_type": "stream",
     "text": [
      "100\n"
     ]
    }
   ],
   "source": [
    "numbers = [12, 45, 23, 67, 9, 100, 37]\n",
    "\n",
    "max_value = max(numbers, key=lambda x: x)\n",
    "\n",
    "print(max_value)  "
   ]
  },
  {
   "cell_type": "markdown",
   "id": "f2ab2afe",
   "metadata": {},
   "source": [
    "In this example, the lambda function max_lambda takes a list lst as an argument and uses the built-in max() function to find the maximum value within the list. The lambda function essentially acts as a wrapper around the max() function for this specific use case.This is another way to use lambda function for retriving max value in list:"
   ]
  },
  {
   "cell_type": "code",
   "execution_count": 11,
   "id": "58c03707",
   "metadata": {},
   "outputs": [
    {
     "name": "stdout",
     "output_type": "stream",
     "text": [
      "100\n"
     ]
    }
   ],
   "source": [
    "numbers = [12, 45, 23, 67, 9, 100, 37]\n",
    "\n",
    "max_lambda = lambda lst: max(lst)\n",
    "\n",
    "max_value = max_lambda(numbers)\n",
    "\n",
    "print(max_value) "
   ]
  },
  {
   "cell_type": "markdown",
   "id": "8de62648",
   "metadata": {},
   "source": [
    "# 8. Implement a lambda function to filter out all the even numbers from a list of integers."
   ]
  },
  {
   "cell_type": "markdown",
   "id": "9295b601",
   "metadata": {},
   "source": [
    "a lambda function that filters out all the even numbers from a list of integers using the filter() function:\n",
    "\n",
    "\n",
    "In this example, the lambda function even_filter checks if a number is even by using the modulo operator % to check if the remainder when divided by 2 is zero. The filter() function is then used with this lambda function as the filter criterion to extract the even numbers from the numbers list. Finally, the result is converted to a list using list() to display the even numbers.\n",
    "\n",
    "\n",
    "\n",
    "\n",
    "\n"
   ]
  },
  {
   "cell_type": "code",
   "execution_count": 12,
   "id": "4fd3b80a",
   "metadata": {},
   "outputs": [
    {
     "name": "stdout",
     "output_type": "stream",
     "text": [
      "[12, 100, 82]\n"
     ]
    }
   ],
   "source": [
    "numbers = [12, 45, 23, 67, 9, 100, 37, 82]\n",
    "\n",
    "even_filter = lambda x: x % 2 == 0\n",
    "\n",
    "even_numbers = list(filter(even_filter, numbers))\n",
    "\n",
    "print(even_numbers)  "
   ]
  },
  {
   "cell_type": "markdown",
   "id": "a7bc7fbc",
   "metadata": {},
   "source": [
    "# 9. Write a lambda function to sort a list of strings in ascending order based on the length of each string."
   ]
  },
  {
   "cell_type": "markdown",
   "id": "8742c98a",
   "metadata": {},
   "source": [
    " a lambda function that sorts a list of strings in ascending order based on the length of each string:\n",
    "\n",
    "In this example, the lambda function lambda x: len(x) computes the length of each string x, and the sorted() function is used with this lambda function as the key argument. This causes the strings to be sorted based on their lengths in ascending order.\n"
   ]
  },
  {
   "cell_type": "code",
   "execution_count": 14,
   "id": "f75134fb",
   "metadata": {},
   "outputs": [
    {
     "name": "stdout",
     "output_type": "stream",
     "text": [
      "['date', 'apple', 'banana', 'cherry', 'elderberry']\n"
     ]
    }
   ],
   "source": [
    "strings = [\"apple\", \"banana\", \"cherry\", \"date\", \"elderberry\"]\n",
    "\n",
    "sorted_strings = sorted(strings, key=lambda x: len(x))\n",
    "\n",
    "print(sorted_strings)"
   ]
  },
  {
   "cell_type": "markdown",
   "id": "9dbc7bd3",
   "metadata": {},
   "source": [
    "# 10. Create a lambda function that takes two lists as input and returns a new list containing the common elements between the two lists."
   ]
  },
  {
   "cell_type": "markdown",
   "id": "5ff4c975",
   "metadata": {},
   "source": [
    "Here's a lambda function that takes two lists as input and returns a new list containing the common elements between the two lists:\n",
    "\n",
    "In this example, the lambda function common_elements takes two lists lst1 and lst2 as arguments. It uses the filter() function along with a lambda function to filter the elements from lst1 that are present in lst2. The result is a new list containing the common elements between the two input lists."
   ]
  },
  {
   "cell_type": "code",
   "execution_count": 15,
   "id": "0143df9a",
   "metadata": {},
   "outputs": [
    {
     "name": "stdout",
     "output_type": "stream",
     "text": [
      "[8, 10]\n"
     ]
    }
   ],
   "source": [
    "list1 = [2, 4, 6, 8, 10]\n",
    "list2 = [5, 3, 8, 10, 12]\n",
    "\n",
    "common_elements = lambda lst1, lst2: list(filter(lambda x: x in lst2, lst1))\n",
    "\n",
    "result = common_elements(list1, list2)\n",
    "\n",
    "print(result) "
   ]
  },
  {
   "cell_type": "markdown",
   "id": "66e3ce5d",
   "metadata": {},
   "source": [
    "# 11. Write a recursive function to calculate the factorial of a given positive integer."
   ]
  },
  {
   "cell_type": "code",
   "execution_count": 17,
   "id": "0fab5990",
   "metadata": {},
   "outputs": [
    {
     "name": "stdout",
     "output_type": "stream",
     "text": [
      "The factorial of 5 is 120\n"
     ]
    },
    {
     "data": {
      "text/plain": [
       "'\\nIn this example, the factorial function calculates the factorial of a positive integer n using recursion. The base\\ncase is when n is 0 or 1, in which case the factorial is 1. For larger values of n, the function recursively calls \\nitself with the argument n - 1 and multiplies it by n to calculate the factorial.\\n\\n'"
      ]
     },
     "execution_count": 17,
     "metadata": {},
     "output_type": "execute_result"
    }
   ],
   "source": [
    "def factorial(n):\n",
    "    if n == 0 or n == 1:\n",
    "        return 1\n",
    "    else:\n",
    "        return n * factorial(n - 1)\n",
    "\n",
    "# Test the function\n",
    "number = 5\n",
    "result = factorial(number)\n",
    "print(f\"The factorial of {number} is {result}\") \n",
    "\n",
    "'''\n",
    "In this example, the factorial function calculates the factorial of a positive integer n using recursion. The base\n",
    "case is when n is 0 or 1, in which case the factorial is 1. For larger values of n, the function recursively calls \n",
    "itself with the argument n - 1 and multiplies it by n to calculate the factorial.\n",
    "\n",
    "'''"
   ]
  },
  {
   "cell_type": "markdown",
   "id": "1012dc5d",
   "metadata": {},
   "source": [
    "# 12. Implement a recursive function to compute the nth Fibonacci number."
   ]
  },
  {
   "cell_type": "code",
   "execution_count": 18,
   "id": "4c3ee652",
   "metadata": {},
   "outputs": [
    {
     "name": "stdout",
     "output_type": "stream",
     "text": [
      "The 7th Fibonacci number is 13\n"
     ]
    }
   ],
   "source": [
    "def fibonacci(n):\n",
    "    if n <= 0:\n",
    "        return 0\n",
    "    elif n == 1:\n",
    "        return 1\n",
    "    else:\n",
    "        return fibonacci(n - 1) + fibonacci(n - 2)\n",
    "\n",
    "# Test the function\n",
    "n = 7\n",
    "result = fibonacci(n)\n",
    "print(f\"The {n}th Fibonacci number is {result}\")  "
   ]
  },
  {
   "cell_type": "markdown",
   "id": "a0143cd5",
   "metadata": {},
   "source": [
    "In this example, the fibonacci function calculates the nth Fibonacci number using recursion. The base cases are when n is 0 or 1, in which case the function returns 0 and 1, respectively. For larger values of n, the function recursively calls itself with n - 1 and n - 2 as arguments and returns the sum of the two previous Fibonacci numbers."
   ]
  },
  {
   "cell_type": "markdown",
   "id": "d9084b23",
   "metadata": {},
   "source": [
    "# 13. Create a recursive function to find the sum of all the elements in a given list."
   ]
  },
  {
   "cell_type": "code",
   "execution_count": 20,
   "id": "9671a2be",
   "metadata": {},
   "outputs": [
    {
     "name": "stdout",
     "output_type": "stream",
     "text": [
      "The sum of the elements is: 15\n"
     ]
    }
   ],
   "source": [
    "def recursive_sum(lst):\n",
    "    if not lst:\n",
    "        return 0\n",
    "    else:\n",
    "        return lst[0] + recursive_sum(lst[1:])\n",
    "\n",
    "# Test the function\n",
    "numbers = [1, 2, 3, 4, 5]\n",
    "result = recursive_sum(numbers)\n",
    "print(f\"The sum of the elements is: {result}\")  "
   ]
  },
  {
   "cell_type": "markdown",
   "id": "2d79a444",
   "metadata": {},
   "source": [
    "In this example, the recursive_sum function calculates the sum of all the elements in a list using recursion. The base case is when the list is empty, in which case the function returns 0. For non-empty lists, the function adds the first element of the list to the sum of the rest of the elements (computed by recursively calling the function with the remaining portion of the list).\n"
   ]
  },
  {
   "cell_type": "markdown",
   "id": "6a87a891",
   "metadata": {},
   "source": [
    "# 14. Write a recursive function to determine whether a given string is a palindrome."
   ]
  },
  {
   "cell_type": "code",
   "execution_count": null,
   "id": "f32139cb",
   "metadata": {},
   "outputs": [],
   "source": [
    "#def is_palindrome(s):\n",
    "    s = s.lower().replace(\" \", \"\")  # Convert to lowercase and remove spaces\n",
    "    if len(s) <= 1:\n",
    "        return True\n",
    "    elif s[0] != s[-1]:\n",
    "        return False\n",
    "    else:\n",
    "        return is_palindrome(s[1:-1])\n",
    "\n",
    "#Test the function\n",
    "string1 = \"racecar\"\n",
    "string2 = \"hello\"\n",
    "\n",
    "print(f\"{string1} is a palindrome: {is_palindrome(string1)}\")  \n",
    "print(f\"{string2} is a palindrome: {is_palindrome(string2)}\")  "
   ]
  },
  {
   "cell_type": "markdown",
   "id": "7c94c1b8",
   "metadata": {},
   "source": [
    "In this example, the is_palindrome function determines whether a given string is a palindrome using recursion. The base cases are when the string has one or fewer characters, in which case it's considered a palindrome. If the first and last characters of the string are not the same, it's not a palindrome. Otherwise, the function recursively calls itself with the substring that excludes the first and last characters."
   ]
  },
  {
   "cell_type": "markdown",
   "id": "c092fd8e",
   "metadata": {},
   "source": [
    "# 15. Implement a recursive function to find the greatest common divisor (GCD) of two positive integers."
   ]
  },
  {
   "cell_type": "code",
   "execution_count": 22,
   "id": "690e6ced",
   "metadata": {},
   "outputs": [
    {
     "name": "stdout",
     "output_type": "stream",
     "text": [
      "The GCD of 48 and 18 is: 6\n"
     ]
    }
   ],
   "source": [
    "#Here's an example of a recursive function to find the greatest common divisor (GCD) of two positive integers using \n",
    "#the Euclidean algorithm:\n",
    "\n",
    "def gcd(a, b):\n",
    "    if b == 0:\n",
    "        return a\n",
    "    else:\n",
    "        return gcd(b, a % b)\n",
    "\n",
    "# Test the function\n",
    "num1 = 48\n",
    "num2 = 18\n",
    "\n",
    "result = gcd(num1, num2)\n",
    "print(f\"The GCD of {num1} and {num2} is: {result}\")  "
   ]
  },
  {
   "cell_type": "markdown",
   "id": "0a725203",
   "metadata": {},
   "source": [
    "In this example, the gcd function uses the Euclidean algorithm to find the GCD of two positive integers a and b. The algorithm works by repeatedly taking the remainder of the larger number divided by the smaller number and swapping the numbers until the remainder becomes zero. The last non-zero remainder is the GCD.\n",
    "\n",
    "The base case for the recursion is when b becomes zero, at which point the function returns a. Otherwise, the function recursively calls itself with the arguments b and a % b.\n",
    "\n",
    "This recursive approach efficiently calculates the GCD of two numbers by reducing the problem into smaller subproblems with simpler arithmetic operations."
   ]
  }
 ],
 "metadata": {
  "kernelspec": {
   "display_name": "Python 3 (ipykernel)",
   "language": "python",
   "name": "python3"
  },
  "language_info": {
   "codemirror_mode": {
    "name": "ipython",
    "version": 3
   },
   "file_extension": ".py",
   "mimetype": "text/x-python",
   "name": "python",
   "nbconvert_exporter": "python",
   "pygments_lexer": "ipython3",
   "version": "3.9.7"
  }
 },
 "nbformat": 4,
 "nbformat_minor": 5
}
